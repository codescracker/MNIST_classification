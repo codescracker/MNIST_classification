{
 "cells": [
  {
   "cell_type": "code",
   "execution_count": 1,
   "metadata": {
    "collapsed": true
   },
   "outputs": [],
   "source": [
    "import pandas as pd\n",
    "import numpy as np\n",
    "import matplotlib.pyplot as plt\n",
    "import seaborn as sns\n",
    "import os"
   ]
  },
  {
   "cell_type": "code",
   "execution_count": 177,
   "metadata": {
    "collapsed": true
   },
   "outputs": [],
   "source": [
    "%matplotlib inline"
   ]
  },
  {
   "cell_type": "markdown",
   "metadata": {},
   "source": [
    "# Import MNIST dataset"
   ]
  },
  {
   "cell_type": "code",
   "execution_count": 2,
   "metadata": {},
   "outputs": [
    {
     "data": {
      "text/plain": [
       "{'COL_NAMES': ['label', 'data'],\n",
       " 'DESCR': 'mldata.org dataset: mnist-original',\n",
       " 'data': array([[0, 0, 0, ..., 0, 0, 0],\n",
       "        [0, 0, 0, ..., 0, 0, 0],\n",
       "        [0, 0, 0, ..., 0, 0, 0],\n",
       "        ..., \n",
       "        [0, 0, 0, ..., 0, 0, 0],\n",
       "        [0, 0, 0, ..., 0, 0, 0],\n",
       "        [0, 0, 0, ..., 0, 0, 0]], dtype=uint8),\n",
       " 'target': array([ 0.,  0.,  0., ...,  9.,  9.,  9.])}"
      ]
     },
     "execution_count": 2,
     "metadata": {},
     "output_type": "execute_result"
    }
   ],
   "source": [
    "from sklearn.datasets import fetch_mldata\n",
    "mnist = fetch_mldata('MNIST original')\n",
    "mnist"
   ]
  },
  {
   "cell_type": "code",
   "execution_count": 3,
   "metadata": {
    "collapsed": true
   },
   "outputs": [],
   "source": [
    "y,X = mnist['target'], mnist['data']"
   ]
  },
  {
   "cell_type": "code",
   "execution_count": 4,
   "metadata": {},
   "outputs": [
    {
     "data": {
      "text/plain": [
       "(70000, 784)"
      ]
     },
     "execution_count": 4,
     "metadata": {},
     "output_type": "execute_result"
    }
   ],
   "source": [
    "X.shape"
   ]
  },
  {
   "cell_type": "code",
   "execution_count": 7,
   "metadata": {},
   "outputs": [
    {
     "data": {
      "text/plain": [
       "0.0    6903\n",
       "1.0    7877\n",
       "2.0    6990\n",
       "3.0    7141\n",
       "4.0    6824\n",
       "5.0    6313\n",
       "6.0    6876\n",
       "7.0    7293\n",
       "8.0    6825\n",
       "9.0    6958\n",
       "dtype: int64"
      ]
     },
     "execution_count": 7,
     "metadata": {},
     "output_type": "execute_result"
    }
   ],
   "source": [
    "pd.Series(y).value_counts().sort_index()"
   ]
  },
  {
   "cell_type": "markdown",
   "metadata": {},
   "source": [
    "**Draw an example**"
   ]
  },
  {
   "cell_type": "code",
   "execution_count": 12,
   "metadata": {
    "collapsed": true
   },
   "outputs": [],
   "source": [
    "def draw_num(data):\n",
    "    fig, ax = plt.subplots()\n",
    "    ax.imshow(data.reshape(28,28))\n",
    "    ax.axis('off')\n",
    "    plt.show()"
   ]
  },
  {
   "cell_type": "code",
   "execution_count": 19,
   "metadata": {},
   "outputs": [
    {
     "data": {
      "image/png": "[encoded data removed]",
      "text/plain": [
       "<matplotlib.figure.Figure at 0x11556a6d0>"
      ]
     },
     "metadata": {},
     "output_type": "display_data"
    }
   ],
   "source": [
    "draw_num(X[20000])"
   ]
  },
  {
   "cell_type": "code",
   "execution_count": 20,
   "metadata": {},
   "outputs": [
    {
     "name": "stdout",
     "output_type": "stream",
     "text": [
      "3.0\n"
     ]
    }
   ],
   "source": [
    "print y[20000]"
   ]
  },
  {
   "cell_type": "markdown",
   "metadata": {},
   "source": [
    "# Shuffle the dataset, split the training and test data using StratifiedShuffleSplit"
   ]
  },
  {
   "cell_type": "code",
   "execution_count": 24,
   "metadata": {
    "collapsed": true
   },
   "outputs": [],
   "source": [
    "shuffle_index = np.random.permutation(len(y))"
   ]
  },
  {
   "cell_type": "code",
   "execution_count": 25,
   "metadata": {
    "collapsed": true
   },
   "outputs": [],
   "source": [
    "y,X = y[shuffle_index],X[shuffle_index]"
   ]
  },
  {
   "cell_type": "code",
   "execution_count": 26,
   "metadata": {
    "collapsed": true
   },
   "outputs": [],
   "source": [
    "from sklearn.model_selection import StratifiedShuffleSplit"
   ]
  },
  {
   "cell_type": "code",
   "execution_count": 27,
   "metadata": {
    "collapsed": true
   },
   "outputs": [],
   "source": [
    "sss = StratifiedShuffleSplit(n_splits=1, test_size=0.2, random_state=42)"
   ]
  },
  {
   "cell_type": "code",
   "execution_count": 28,
   "metadata": {},
   "outputs": [
    {
     "name": "stdout",
     "output_type": "stream",
     "text": [
      "('TRAIN:', array([25140, 25852, 15947, ..., 32622, 68200, 38923]), 'TEST:', array([20921, 41883, 10117, ..., 42199, 53734, 29943]))\n"
     ]
    }
   ],
   "source": [
    "for train_index, test_index in sss.split(X, y):\n",
    "    print(\"TRAIN:\", train_index, \"TEST:\", test_index)\n",
    "    X_train, X_test = X[train_index], X[test_index]\n",
    "    y_train, y_test = y[train_index], y[test_index]"
   ]
  },
  {
   "cell_type": "code",
   "execution_count": 29,
   "metadata": {},
   "outputs": [
    {
     "data": {
      "text/plain": [
       "(56000, 784)"
      ]
     },
     "execution_count": 29,
     "metadata": {},
     "output_type": "execute_result"
    }
   ],
   "source": [
    "X_train.shape"
   ]
  },
  {
   "cell_type": "code",
   "execution_count": 30,
   "metadata": {},
   "outputs": [
    {
     "data": {
      "text/plain": [
       "(14000, 784)"
      ]
     },
     "execution_count": 30,
     "metadata": {},
     "output_type": "execute_result"
    }
   ],
   "source": [
    "X_test.shape"
   ]
  },
  {
   "cell_type": "markdown",
   "metadata": {},
   "source": [
    "# Binary Classifier, detect number 2"
   ]
  },
  {
   "cell_type": "code",
   "execution_count": 31,
   "metadata": {
    "collapsed": true
   },
   "outputs": [],
   "source": [
    "y_train_2 = y_train==2\n",
    "y_test_2 = y_test==2"
   ]
  },
  {
   "cell_type": "code",
   "execution_count": 33,
   "metadata": {
    "collapsed": true
   },
   "outputs": [],
   "source": [
    "from sklearn.linear_model import SGDClassifier"
   ]
  },
  {
   "cell_type": "code",
   "execution_count": 34,
   "metadata": {
    "collapsed": true
   },
   "outputs": [],
   "source": [
    "sgd_clf = SGDClassifier()"
   ]
  },
  {
   "cell_type": "code",
   "execution_count": 36,
   "metadata": {},
   "outputs": [
    {
     "data": {
      "text/plain": [
       "SGDClassifier(alpha=0.0001, average=False, class_weight=None, epsilon=0.1,\n",
       "       eta0=0.0, fit_intercept=True, l1_ratio=0.15,\n",
       "       learning_rate='optimal', loss='hinge', n_iter=5, n_jobs=1,\n",
       "       penalty='l2', power_t=0.5, random_state=None, shuffle=True,\n",
       "       verbose=0, warm_start=False)"
      ]
     },
     "execution_count": 36,
     "metadata": {},
     "output_type": "execute_result"
    }
   ],
   "source": [
    "sgd_clf.fit(X_train, y_train_2)"
   ]
  },
  {
   "cell_type": "markdown",
   "metadata": {},
   "source": [
    "**Use cross validation accuracy in training set to measure the classifier**"
   ]
  },
  {
   "cell_type": "code",
   "execution_count": 37,
   "metadata": {
    "collapsed": true
   },
   "outputs": [],
   "source": [
    "from sklearn.model_selection import cross_val_score"
   ]
  },
  {
   "cell_type": "code",
   "execution_count": 38,
   "metadata": {},
   "outputs": [
    {
     "data": {
      "text/plain": [
       "array([ 0.96500312,  0.97428801,  0.97455357,  0.96785427,  0.97258684])"
      ]
     },
     "execution_count": 38,
     "metadata": {},
     "output_type": "execute_result"
    }
   ],
   "source": [
    "cross_val_score(sgd_clf, X_train, y_train_2, cv=5, scoring= \"accuracy\")"
   ]
  },
  {
   "cell_type": "markdown",
   "metadata": {},
   "source": [
    "**Use cross validation to measure the recall and precision in the training set**"
   ]
  },
  {
   "cell_type": "code",
   "execution_count": 39,
   "metadata": {
    "collapsed": true
   },
   "outputs": [],
   "source": [
    "from sklearn.model_selection import cross_val_predict"
   ]
  },
  {
   "cell_type": "code",
   "execution_count": 40,
   "metadata": {
    "collapsed": true
   },
   "outputs": [],
   "source": [
    "y_train_2_pred = cross_val_predict(sgd_clf, X_train, y_train_2, cv = 5)"
   ]
  },
  {
   "cell_type": "code",
   "execution_count": 41,
   "metadata": {
    "collapsed": true
   },
   "outputs": [],
   "source": [
    "from sklearn.metrics import recall_score, precision_score, confusion_matrix"
   ]
  },
  {
   "cell_type": "code",
   "execution_count": 42,
   "metadata": {},
   "outputs": [
    {
     "data": {
      "text/plain": [
       "array([[49420,   988],\n",
       "       [  922,  4670]])"
      ]
     },
     "execution_count": 42,
     "metadata": {},
     "output_type": "execute_result"
    }
   ],
   "source": [
    "confusion_matrix(y_train_2, y_train_2_pred)"
   ]
  },
  {
   "cell_type": "code",
   "execution_count": 43,
   "metadata": {},
   "outputs": [
    {
     "data": {
      "text/plain": [
       "0.83512160228898424"
      ]
     },
     "execution_count": 43,
     "metadata": {},
     "output_type": "execute_result"
    }
   ],
   "source": [
    "recall_score(y_train_2, y_train_2_pred)"
   ]
  },
  {
   "cell_type": "code",
   "execution_count": 44,
   "metadata": {},
   "outputs": [
    {
     "data": {
      "text/plain": [
       "0.82537999293036413"
      ]
     },
     "execution_count": 44,
     "metadata": {},
     "output_type": "execute_result"
    }
   ],
   "source": [
    "precision_score(y_train_2, y_train_2_pred)"
   ]
  },
  {
   "cell_type": "code",
   "execution_count": 45,
   "metadata": {
    "collapsed": true
   },
   "outputs": [],
   "source": [
    "from sklearn.metrics import f1_score"
   ]
  },
  {
   "cell_type": "code",
   "execution_count": 46,
   "metadata": {},
   "outputs": [
    {
     "data": {
      "text/plain": [
       "0.83022222222222219"
      ]
     },
     "execution_count": 46,
     "metadata": {},
     "output_type": "execute_result"
    }
   ],
   "source": [
    "f1_score(y_train_2, y_train_2_pred)"
   ]
  },
  {
   "cell_type": "markdown",
   "metadata": {},
   "source": [
    "**Relation between threshold, recall and precision**"
   ]
  },
  {
   "cell_type": "code",
   "execution_count": 47,
   "metadata": {
    "collapsed": true
   },
   "outputs": [],
   "source": [
    "y_train_2_score = cross_val_predict(sgd_clf, X_train, y_train_2, cv = 5, method='decision_function')"
   ]
  },
  {
   "cell_type": "code",
   "execution_count": 50,
   "metadata": {
    "collapsed": true
   },
   "outputs": [],
   "source": [
    "from sklearn.metrics import precision_recall_curve"
   ]
  },
  {
   "cell_type": "code",
   "execution_count": 51,
   "metadata": {
    "collapsed": true
   },
   "outputs": [],
   "source": [
    "precision, recall, threshold = precision_recall_curve(y_train_2, y_train_2_score)"
   ]
  },
  {
   "cell_type": "code",
   "execution_count": 52,
   "metadata": {},
   "outputs": [
    {
     "data": {
      "text/plain": [
       "(54739,)"
      ]
     },
     "execution_count": 52,
     "metadata": {},
     "output_type": "execute_result"
    }
   ],
   "source": [
    "precision.shape"
   ]
  },
  {
   "cell_type": "code",
   "execution_count": 53,
   "metadata": {},
   "outputs": [
    {
     "data": {
      "text/plain": [
       "(54738,)"
      ]
     },
     "execution_count": 53,
     "metadata": {},
     "output_type": "execute_result"
    }
   ],
   "source": [
    "threshold.shape"
   ]
  },
  {
   "cell_type": "code",
   "execution_count": 64,
   "metadata": {
    "collapsed": true
   },
   "outputs": [],
   "source": [
    "def plot_precision_recall_vs_threshold(precisions, recalls, thresholds, figsize = (15,7)):\n",
    "    fig, ax = plt.subplots(figsize = figsize)\n",
    "    ax.plot(thresholds, precisions[:-1], \"b--\", label=\"Precision\", linewidth=2)\n",
    "    ax.plot(thresholds, recalls[:-1], \"g-\", label=\"Recall\", linewidth=2)\n",
    "    ax.set_xlabel(\"Threshold\", fontsize=16)\n",
    "    ax.legend(loc=\"upper left\", fontsize=16)\n",
    "    ax.set_ylim([-0.1, 1.1])\n",
    "    plt.show()"
   ]
  },
  {
   "cell_type": "code",
   "execution_count": 66,
   "metadata": {},
   "outputs": [
    {
     "data": {
      "image/png": "[encoded data removed]",
      "text/plain": [
       "<matplotlib.figure.Figure at 0x1262210d0>"
      ]
     },
     "metadata": {},
     "output_type": "display_data"
    }
   ],
   "source": [
    "plot_precision_recall_vs_threshold(precision, recall, threshold)"
   ]
  },
  {
   "cell_type": "code",
   "execution_count": 71,
   "metadata": {
    "collapsed": true
   },
   "outputs": [],
   "source": [
    "def plot_precesion_recall(precisions, recalls, figsize = (8,8)):\n",
    "    fig, ax = plt.subplots(figsize = figsize)\n",
    "    ax.plot(recalls, precisions)\n",
    "    ax.set_xlabel(\"Recalls\", fontsize=16)\n",
    "    ax.set_ylabel(\"Precesions\", fontsize=16)\n",
    "    ax.legend(loc=\"upper left\", fontsize=16)\n",
    "    ax.set_xlim([0,1])\n",
    "    ax.set_ylim([0,1])\n",
    "    plt.show()"
   ]
  },
  {
   "cell_type": "code",
   "execution_count": 72,
   "metadata": {},
   "outputs": [
    {
     "data": {
      "image/png": "[encoded data removed]",
      "text/plain": [
       "<matplotlib.figure.Figure at 0x11583a050>"
      ]
     },
     "metadata": {},
     "output_type": "display_data"
    }
   ],
   "source": [
    "plot_precesion_recall(precision, recall)"
   ]
  },
  {
   "cell_type": "markdown",
   "metadata": {},
   "source": [
    "**Use cross validation to measure the ROC and AUC in the training set**"
   ]
  },
  {
   "cell_type": "code",
   "execution_count": 73,
   "metadata": {
    "collapsed": true
   },
   "outputs": [],
   "source": [
    "from sklearn.metrics import roc_curve, roc_auc_score"
   ]
  },
  {
   "cell_type": "code",
   "execution_count": 75,
   "metadata": {
    "collapsed": true
   },
   "outputs": [],
   "source": [
    "fprs, tprs, thresholds =  roc_curve(y_train_2, y_train_2_score)"
   ]
  },
  {
   "cell_type": "code",
   "execution_count": 76,
   "metadata": {},
   "outputs": [
    {
     "data": {
      "text/plain": [
       "(3037,)"
      ]
     },
     "execution_count": 76,
     "metadata": {},
     "output_type": "execute_result"
    }
   ],
   "source": [
    "fprs.shape"
   ]
  },
  {
   "cell_type": "code",
   "execution_count": 77,
   "metadata": {},
   "outputs": [
    {
     "data": {
      "text/plain": [
       "(3037,)"
      ]
     },
     "execution_count": 77,
     "metadata": {},
     "output_type": "execute_result"
    }
   ],
   "source": [
    "thresholds.shape"
   ]
  },
  {
   "cell_type": "code",
   "execution_count": 78,
   "metadata": {
    "collapsed": true
   },
   "outputs": [],
   "source": [
    "def plot_fpr_tpr_threshold(fprs, tprs, thresholds, figsize = (15,7)):\n",
    "    fig, ax = plt.subplots(figsize = figsize)\n",
    "    ax.plot(thresholds, fprs, \"b--\", label=\"FPRS\", linewidth=2)\n",
    "    ax.plot(thresholds, tprs, \"g-\", label=\"TPRS\", linewidth=2)\n",
    "    ax.set_xlabel(\"Threshold\", fontsize=16)\n",
    "    ax.legend(loc=\"upper left\", fontsize=16)\n",
    "    ax.set_ylim([-0.1, 1.1])\n",
    "    plt.show()"
   ]
  },
  {
   "cell_type": "code",
   "execution_count": 79,
   "metadata": {},
   "outputs": [
    {
     "data": {
      "image/png": "[encoded data removed]",
      "text/plain": [
       "<matplotlib.figure.Figure at 0x112189850>"
      ]
     },
     "metadata": {},
     "output_type": "display_data"
    }
   ],
   "source": [
    "plot_fpr_tpr_threshold(fprs, tprs, thresholds)"
   ]
  },
  {
   "cell_type": "code",
   "execution_count": 88,
   "metadata": {
    "collapsed": true
   },
   "outputs": [],
   "source": [
    "def plot_fpr_tpr(fprs, tprs, figsize = (8,8)):\n",
    "    fig, ax = plt.subplots(figsize = figsize)\n",
    "    ax.plot(fprs, tprs)\n",
    "    ax.plot([0,1],[0,1], '--')\n",
    "    ax.set_xlabel(\"False Positive\", fontsize=16)\n",
    "    ax.set_ylabel(\"True Positive\", fontsize=16)\n",
    "    ax.legend(loc=\"upper left\", fontsize=16)\n",
    "    ax.set_xlim([0,1])\n",
    "    ax.set_ylim([0,1])\n",
    "    plt.show()"
   ]
  },
  {
   "cell_type": "code",
   "execution_count": 90,
   "metadata": {},
   "outputs": [
    {
     "data": {
      "image/png": "[encoded data removed]",
      "text/plain": [
       "<matplotlib.figure.Figure at 0x111f08350>"
      ]
     },
     "metadata": {},
     "output_type": "display_data"
    }
   ],
   "source": [
    "plot_fpr_tpr(fprs,tprs)"
   ]
  },
  {
   "cell_type": "code",
   "execution_count": 91,
   "metadata": {},
   "outputs": [
    {
     "name": "stdout",
     "output_type": "stream",
     "text": [
      "The Area Under the Curve is 0.962788992323\n"
     ]
    }
   ],
   "source": [
    "auc = roc_auc_score(y_train_2, y_train_2_score)\n",
    "print 'The Area Under the Curve is {}'.format(auc)"
   ]
  },
  {
   "cell_type": "markdown",
   "metadata": {},
   "source": [
    "# Multiclass classification"
   ]
  },
  {
   "cell_type": "code",
   "execution_count": 92,
   "metadata": {
    "collapsed": true
   },
   "outputs": [],
   "source": [
    "from sklearn.ensemble import RandomForestClassifier\n",
    "from sklearn.neighbors import KNeighborsClassifier\n",
    "from sklearn.svm import SVC"
   ]
  },
  {
   "cell_type": "code",
   "execution_count": 93,
   "metadata": {
    "collapsed": true
   },
   "outputs": [],
   "source": [
    "from sklearn.model_selection import GridSearchCV"
   ]
  },
  {
   "cell_type": "markdown",
   "metadata": {},
   "source": [
    "### Train and tune the random forest classifier###"
   ]
  },
  {
   "cell_type": "code",
   "execution_count": 95,
   "metadata": {
    "collapsed": true
   },
   "outputs": [],
   "source": [
    "rfc = RandomForestClassifier()\n",
    "grid_param = {\n",
    "    'criterion': ['gini', 'entropy'],\n",
    "    'n_estimators':[100,200,300],\n",
    "    'max_features':['sqrt', 'log2']\n",
    "}\n",
    "rfc_grid = GridSearchCV(RandomForestClassifier(),grid_param,scoring= 'f1_macro', cv=5, verbose=3)"
   ]
  },
  {
   "cell_type": "code",
   "execution_count": 96,
   "metadata": {},
   "outputs": [
    {
     "name": "stdout",
     "output_type": "stream",
     "text": [
      "Fitting 5 folds for each of 12 candidates, totalling 60 fits\n",
      "[CV] max_features=sqrt, n_estimators=100, criterion=gini .............\n",
      "[CV]  max_features=sqrt, n_estimators=100, criterion=gini, score=0.966714, total=  32.9s\n",
      "[CV] max_features=sqrt, n_estimators=100, criterion=gini .............\n"
     ]
    },
    {
     "name": "stderr",
     "output_type": "stream",
     "text": [
      "[Parallel(n_jobs=1)]: Done   1 out of   1 | elapsed:   35.3s remaining:    0.0s\n"
     ]
    },
    {
     "name": "stdout",
     "output_type": "stream",
     "text": [
      "[CV]  max_features=sqrt, n_estimators=100, criterion=gini, score=0.966712, total=  32.5s\n",
      "[CV] max_features=sqrt, n_estimators=100, criterion=gini .............\n"
     ]
    },
    {
     "name": "stderr",
     "output_type": "stream",
     "text": [
      "[Parallel(n_jobs=1)]: Done   2 out of   2 | elapsed:  1.2min remaining:    0.0s\n"
     ]
    },
    {
     "name": "stdout",
     "output_type": "stream",
     "text": [
      "[CV]  max_features=sqrt, n_estimators=100, criterion=gini, score=0.967821, total=  32.4s\n",
      "[CV] max_features=sqrt, n_estimators=100, criterion=gini .............\n",
      "[CV]  max_features=sqrt, n_estimators=100, criterion=gini, score=0.968914, total=  32.6s\n",
      "[CV] max_features=sqrt, n_estimators=100, criterion=gini .............\n",
      "[CV]  max_features=sqrt, n_estimators=100, criterion=gini, score=0.965272, total=  32.3s\n",
      "[CV] max_features=sqrt, n_estimators=200, criterion=gini .............\n",
      "[CV]  max_features=sqrt, n_estimators=200, criterion=gini, score=0.966367, total= 1.1min\n",
      "[CV] max_features=sqrt, n_estimators=200, criterion=gini .............\n",
      "[CV]  max_features=sqrt, n_estimators=200, criterion=gini, score=0.967404, total= 1.1min\n",
      "[CV] max_features=sqrt, n_estimators=200, criterion=gini .............\n",
      "[CV]  max_features=sqrt, n_estimators=200, criterion=gini, score=0.968324, total= 1.0min\n",
      "[CV] max_features=sqrt, n_estimators=200, criterion=gini .............\n",
      "[CV]  max_features=sqrt, n_estimators=200, criterion=gini, score=0.969668, total= 1.0min\n",
      "[CV] max_features=sqrt, n_estimators=200, criterion=gini .............\n",
      "[CV]  max_features=sqrt, n_estimators=200, criterion=gini, score=0.966416, total= 1.1min\n",
      "[CV] max_features=sqrt, n_estimators=300, criterion=gini .............\n",
      "[CV]  max_features=sqrt, n_estimators=300, criterion=gini, score=0.968280, total= 1.8min\n",
      "[CV] max_features=sqrt, n_estimators=300, criterion=gini .............\n",
      "[CV]  max_features=sqrt, n_estimators=300, criterion=gini, score=0.968229, total= 1.7min\n",
      "[CV] max_features=sqrt, n_estimators=300, criterion=gini .............\n",
      "[CV]  max_features=sqrt, n_estimators=300, criterion=gini, score=0.969589, total= 1.7min\n",
      "[CV] max_features=sqrt, n_estimators=300, criterion=gini .............\n",
      "[CV]  max_features=sqrt, n_estimators=300, criterion=gini, score=0.970751, total= 1.6min\n",
      "[CV] max_features=sqrt, n_estimators=300, criterion=gini .............\n",
      "[CV]  max_features=sqrt, n_estimators=300, criterion=gini, score=0.966323, total= 1.6min\n",
      "[CV] max_features=log2, n_estimators=100, criterion=gini .............\n",
      "[CV]  max_features=log2, n_estimators=100, criterion=gini, score=0.960393, total=  12.9s\n",
      "[CV] max_features=log2, n_estimators=100, criterion=gini .............\n",
      "[CV]  max_features=log2, n_estimators=100, criterion=gini, score=0.961072, total=  12.6s\n",
      "[CV] max_features=log2, n_estimators=100, criterion=gini .............\n",
      "[CV]  max_features=log2, n_estimators=100, criterion=gini, score=0.963206, total=  12.7s\n",
      "[CV] max_features=log2, n_estimators=100, criterion=gini .............\n",
      "[CV]  max_features=log2, n_estimators=100, criterion=gini, score=0.967950, total=  12.6s\n",
      "[CV] max_features=log2, n_estimators=100, criterion=gini .............\n",
      "[CV]  max_features=log2, n_estimators=100, criterion=gini, score=0.961485, total=  12.6s\n",
      "[CV] max_features=log2, n_estimators=200, criterion=gini .............\n",
      "[CV]  max_features=log2, n_estimators=200, criterion=gini, score=0.962047, total=  25.1s\n",
      "[CV] max_features=log2, n_estimators=200, criterion=gini .............\n",
      "[CV]  max_features=log2, n_estimators=200, criterion=gini, score=0.964763, total=  25.0s\n",
      "[CV] max_features=log2, n_estimators=200, criterion=gini .............\n",
      "[CV]  max_features=log2, n_estimators=200, criterion=gini, score=0.965782, total=  25.0s\n",
      "[CV] max_features=log2, n_estimators=200, criterion=gini .............\n",
      "[CV]  max_features=log2, n_estimators=200, criterion=gini, score=0.967765, total=  25.0s\n",
      "[CV] max_features=log2, n_estimators=200, criterion=gini .............\n",
      "[CV]  max_features=log2, n_estimators=200, criterion=gini, score=0.962498, total=  25.2s\n",
      "[CV] max_features=log2, n_estimators=300, criterion=gini .............\n",
      "[CV]  max_features=log2, n_estimators=300, criterion=gini, score=0.965826, total=  40.8s\n",
      "[CV] max_features=log2, n_estimators=300, criterion=gini .............\n",
      "[CV]  max_features=log2, n_estimators=300, criterion=gini, score=0.966106, total=  39.6s\n",
      "[CV] max_features=log2, n_estimators=300, criterion=gini .............\n",
      "[CV]  max_features=log2, n_estimators=300, criterion=gini, score=0.967229, total=  39.5s\n",
      "[CV] max_features=log2, n_estimators=300, criterion=gini .............\n",
      "[CV]  max_features=log2, n_estimators=300, criterion=gini, score=0.968693, total=  39.6s\n",
      "[CV] max_features=log2, n_estimators=300, criterion=gini .............\n",
      "[CV]  max_features=log2, n_estimators=300, criterion=gini, score=0.965260, total=  39.5s\n",
      "[CV] max_features=sqrt, n_estimators=100, criterion=entropy ..........\n",
      "[CV]  max_features=sqrt, n_estimators=100, criterion=entropy, score=0.967247, total=  36.8s\n",
      "[CV] max_features=sqrt, n_estimators=100, criterion=entropy ..........\n",
      "[CV]  max_features=sqrt, n_estimators=100, criterion=entropy, score=0.966184, total=  36.0s\n",
      "[CV] max_features=sqrt, n_estimators=100, criterion=entropy ..........\n",
      "[CV]  max_features=sqrt, n_estimators=100, criterion=entropy, score=0.966828, total=  35.7s\n",
      "[CV] max_features=sqrt, n_estimators=100, criterion=entropy ..........\n",
      "[CV]  max_features=sqrt, n_estimators=100, criterion=entropy, score=0.969430, total=  36.4s\n",
      "[CV] max_features=sqrt, n_estimators=100, criterion=entropy ..........\n",
      "[CV]  max_features=sqrt, n_estimators=100, criterion=entropy, score=0.964663, total=  36.0s\n",
      "[CV] max_features=sqrt, n_estimators=200, criterion=entropy ..........\n",
      "[CV]  max_features=sqrt, n_estimators=200, criterion=entropy, score=0.967035, total= 1.2min\n",
      "[CV] max_features=sqrt, n_estimators=200, criterion=entropy ..........\n",
      "[CV]  max_features=sqrt, n_estimators=200, criterion=entropy, score=0.967308, total= 1.2min\n",
      "[CV] max_features=sqrt, n_estimators=200, criterion=entropy ..........\n",
      "[CV]  max_features=sqrt, n_estimators=200, criterion=entropy, score=0.968014, total= 1.2min\n",
      "[CV] max_features=sqrt, n_estimators=200, criterion=entropy ..........\n",
      "[CV]  max_features=sqrt, n_estimators=200, criterion=entropy, score=0.968400, total= 1.2min\n",
      "[CV] max_features=sqrt, n_estimators=200, criterion=entropy ..........\n",
      "[CV]  max_features=sqrt, n_estimators=200, criterion=entropy, score=0.965046, total= 1.2min\n",
      "[CV] max_features=sqrt, n_estimators=300, criterion=entropy ..........\n",
      "[CV]  max_features=sqrt, n_estimators=300, criterion=entropy, score=0.967265, total= 1.8min\n",
      "[CV] max_features=sqrt, n_estimators=300, criterion=entropy ..........\n",
      "[CV]  max_features=sqrt, n_estimators=300, criterion=entropy, score=0.967146, total= 1.8min\n",
      "[CV] max_features=sqrt, n_estimators=300, criterion=entropy ..........\n",
      "[CV]  max_features=sqrt, n_estimators=300, criterion=entropy, score=0.968324, total= 1.8min\n",
      "[CV] max_features=sqrt, n_estimators=300, criterion=entropy ..........\n",
      "[CV]  max_features=sqrt, n_estimators=300, criterion=entropy, score=0.970768, total= 1.7min\n",
      "[CV] max_features=sqrt, n_estimators=300, criterion=entropy ..........\n",
      "[CV]  max_features=sqrt, n_estimators=300, criterion=entropy, score=0.964086, total= 1.7min\n",
      "[CV] max_features=log2, n_estimators=100, criterion=entropy ..........\n",
      "[CV]  max_features=log2, n_estimators=100, criterion=entropy, score=0.962666, total=  14.7s\n",
      "[CV] max_features=log2, n_estimators=100, criterion=entropy ..........\n",
      "[CV]  max_features=log2, n_estimators=100, criterion=entropy, score=0.961462, total=  14.7s\n",
      "[CV] max_features=log2, n_estimators=100, criterion=entropy ..........\n",
      "[CV]  max_features=log2, n_estimators=100, criterion=entropy, score=0.964632, total=  14.7s\n",
      "[CV] max_features=log2, n_estimators=100, criterion=entropy ..........\n",
      "[CV]  max_features=log2, n_estimators=100, criterion=entropy, score=0.965790, total=  14.7s\n",
      "[CV] max_features=log2, n_estimators=100, criterion=entropy ..........\n",
      "[CV]  max_features=log2, n_estimators=100, criterion=entropy, score=0.962656, total=  14.7s\n",
      "[CV] max_features=log2, n_estimators=200, criterion=entropy ..........\n",
      "[CV]  max_features=log2, n_estimators=200, criterion=entropy, score=0.964093, total=  29.8s\n",
      "[CV] max_features=log2, n_estimators=200, criterion=entropy ..........\n",
      "[CV]  max_features=log2, n_estimators=200, criterion=entropy, score=0.965166, total=  29.3s\n",
      "[CV] max_features=log2, n_estimators=200, criterion=entropy ..........\n",
      "[CV]  max_features=log2, n_estimators=200, criterion=entropy, score=0.964634, total=  29.6s\n",
      "[CV] max_features=log2, n_estimators=200, criterion=entropy ..........\n"
     ]
    },
    {
     "name": "stdout",
     "output_type": "stream",
     "text": [
      "[CV]  max_features=log2, n_estimators=200, criterion=entropy, score=0.968079, total=  29.5s\n",
      "[CV] max_features=log2, n_estimators=200, criterion=entropy ..........\n",
      "[CV]  max_features=log2, n_estimators=200, criterion=entropy, score=0.963406, total=  29.3s\n",
      "[CV] max_features=log2, n_estimators=300, criterion=entropy ..........\n",
      "[CV]  max_features=log2, n_estimators=300, criterion=entropy, score=0.964360, total=  44.0s\n",
      "[CV] max_features=log2, n_estimators=300, criterion=entropy ..........\n",
      "[CV]  max_features=log2, n_estimators=300, criterion=entropy, score=0.965743, total=  44.2s\n",
      "[CV] max_features=log2, n_estimators=300, criterion=entropy ..........\n",
      "[CV]  max_features=log2, n_estimators=300, criterion=entropy, score=0.967199, total=  44.0s\n",
      "[CV] max_features=log2, n_estimators=300, criterion=entropy ..........\n",
      "[CV]  max_features=log2, n_estimators=300, criterion=entropy, score=0.967859, total=  44.1s\n",
      "[CV] max_features=log2, n_estimators=300, criterion=entropy ..........\n",
      "[CV]  max_features=log2, n_estimators=300, criterion=entropy, score=0.964232, total=  44.0s\n"
     ]
    },
    {
     "name": "stderr",
     "output_type": "stream",
     "text": [
      "[Parallel(n_jobs=1)]: Done  60 out of  60 | elapsed: 52.8min finished\n"
     ]
    },
    {
     "data": {
      "text/plain": [
       "GridSearchCV(cv=5, error_score='raise',\n",
       "       estimator=RandomForestClassifier(bootstrap=True, class_weight=None, criterion='gini',\n",
       "            max_depth=None, max_features='auto', max_leaf_nodes=None,\n",
       "            min_impurity_split=1e-07, min_samples_leaf=1,\n",
       "            min_samples_split=2, min_weight_fraction_leaf=0.0,\n",
       "            n_estimators=10, n_jobs=1, oob_score=False, random_state=None,\n",
       "            verbose=0, warm_start=False),\n",
       "       fit_params={}, iid=True, n_jobs=1,\n",
       "       param_grid={'n_estimators': [100, 200, 300], 'max_features': ['sqrt', 'log2'], 'criterion': ['gini', 'entropy']},\n",
       "       pre_dispatch='2*n_jobs', refit=True, return_train_score=True,\n",
       "       scoring='f1_macro', verbose=3)"
      ]
     },
     "execution_count": 96,
     "metadata": {},
     "output_type": "execute_result"
    }
   ],
   "source": [
    "rfc_grid.fit(X_train,y_train)"
   ]
  },
  {
   "cell_type": "code",
   "execution_count": 97,
   "metadata": {},
   "outputs": [
    {
     "data": {
      "text/plain": [
       "RandomForestClassifier(bootstrap=True, class_weight=None, criterion='gini',\n",
       "            max_depth=None, max_features='sqrt', max_leaf_nodes=None,\n",
       "            min_impurity_split=1e-07, min_samples_leaf=1,\n",
       "            min_samples_split=2, min_weight_fraction_leaf=0.0,\n",
       "            n_estimators=300, n_jobs=1, oob_score=False, random_state=None,\n",
       "            verbose=0, warm_start=False)"
      ]
     },
     "execution_count": 97,
     "metadata": {},
     "output_type": "execute_result"
    }
   ],
   "source": [
    "rfc_grid.best_estimator_"
   ]
  },
  {
   "cell_type": "code",
   "execution_count": 98,
   "metadata": {},
   "outputs": [
    {
     "data": {
      "text/plain": [
       "{'criterion': 'gini', 'max_features': 'sqrt', 'n_estimators': 300}"
      ]
     },
     "execution_count": 98,
     "metadata": {},
     "output_type": "execute_result"
    }
   ],
   "source": [
    "rfc_grid.best_params_"
   ]
  },
  {
   "cell_type": "code",
   "execution_count": 99,
   "metadata": {},
   "outputs": [
    {
     "data": {
      "text/plain": [
       "0.96863458938919422"
      ]
     },
     "execution_count": 99,
     "metadata": {},
     "output_type": "execute_result"
    }
   ],
   "source": [
    "rfc_grid.best_score_"
   ]
  },
  {
   "cell_type": "markdown",
   "metadata": {},
   "source": [
    "**Measure the Tuned Random Forest Model based on test set**"
   ]
  },
  {
   "cell_type": "code",
   "execution_count": 125,
   "metadata": {
    "collapsed": true
   },
   "outputs": [],
   "source": [
    "y_pred = rfc_grid.predict(X_test)"
   ]
  },
  {
   "cell_type": "code",
   "execution_count": 132,
   "metadata": {
    "collapsed": true
   },
   "outputs": [],
   "source": [
    "conf_mtx = confusion_matrix(y_test, y_pred)"
   ]
  },
  {
   "cell_type": "code",
   "execution_count": 133,
   "metadata": {},
   "outputs": [
    {
     "data": {
      "text/plain": [
       "array([[1362,    0,    1,    0,    0,    4,    4,    0,    9,    1],\n",
       "       [   0, 1554,    9,    3,    4,    1,    2,    0,    1,    1],\n",
       "       [   5,    2, 1362,    5,    3,    0,    3,    8,    9,    1],\n",
       "       [   0,    2,   13, 1373,    1,   12,    0,   14,    9,    4],\n",
       "       [   1,    2,    2,    0, 1323,    0,    5,    4,    3,   25],\n",
       "       [   3,    1,    2,   13,    0, 1220,    4,    1,   11,    7],\n",
       "       [   8,    3,    1,    0,    1,    7, 1353,    0,    2,    0],\n",
       "       [   2,    1,   17,    1,    7,    0,    0, 1405,    3,   23],\n",
       "       [   1,   13,    8,   14,    4,   10,    6,    2, 1293,   14],\n",
       "       [   6,    3,    5,   16,   17,    3,    3,   12,   11, 1316]])"
      ]
     },
     "execution_count": 133,
     "metadata": {},
     "output_type": "execute_result"
    }
   ],
   "source": [
    "conf_mtx"
   ]
  },
  {
   "cell_type": "code",
   "execution_count": 102,
   "metadata": {
    "collapsed": true
   },
   "outputs": [],
   "source": [
    "from sklearn.metrics import accuracy_score"
   ]
  },
  {
   "cell_type": "code",
   "execution_count": 134,
   "metadata": {},
   "outputs": [
    {
     "data": {
      "text/plain": [
       "0.96864285714285714"
      ]
     },
     "execution_count": 134,
     "metadata": {},
     "output_type": "execute_result"
    }
   ],
   "source": [
    "accuracy_score(y_test, y_pred)"
   ]
  },
  {
   "cell_type": "code",
   "execution_count": 105,
   "metadata": {},
   "outputs": [
    {
     "data": {
      "text/plain": [
       "0.96843753817630918"
      ]
     },
     "execution_count": 105,
     "metadata": {},
     "output_type": "execute_result"
    }
   ],
   "source": [
    "f1_score(y_test, y_pred, average='macro')"
   ]
  },
  {
   "cell_type": "code",
   "execution_count": 107,
   "metadata": {},
   "outputs": [
    {
     "data": {
      "text/plain": [
       "0.968423569765825"
      ]
     },
     "execution_count": 107,
     "metadata": {},
     "output_type": "execute_result"
    }
   ],
   "source": [
    "recall_score(y_test, y_pred, average='macro')"
   ]
  },
  {
   "cell_type": "code",
   "execution_count": 108,
   "metadata": {},
   "outputs": [
    {
     "data": {
      "text/plain": [
       "0.96847647078693533"
      ]
     },
     "execution_count": 108,
     "metadata": {},
     "output_type": "execute_result"
    }
   ],
   "source": [
    "precision_score(y_test, y_pred, average='macro')"
   ]
  },
  {
   "cell_type": "markdown",
   "metadata": {},
   "source": [
    "**Visualize the detection rate of test data**"
   ]
  },
  {
   "cell_type": "code",
   "execution_count": 163,
   "metadata": {
    "collapsed": true
   },
   "outputs": [],
   "source": [
    "np.set_printoptions(precision=6)"
   ]
  },
  {
   "cell_type": "code",
   "execution_count": 166,
   "metadata": {
    "collapsed": true
   },
   "outputs": [],
   "source": [
    "row_sums = conf_mtx.sum(axis=1, keepdims=True)"
   ]
  },
  {
   "cell_type": "code",
   "execution_count": 167,
   "metadata": {},
   "outputs": [
    {
     "data": {
      "text/plain": [
       "array([[1381],\n",
       "       [1575],\n",
       "       [1398],\n",
       "       [1428],\n",
       "       [1365],\n",
       "       [1262],\n",
       "       [1375],\n",
       "       [1459],\n",
       "       [1365],\n",
       "       [1392]])"
      ]
     },
     "execution_count": 167,
     "metadata": {},
     "output_type": "execute_result"
    }
   ],
   "source": [
    "row_sums"
   ]
  },
  {
   "cell_type": "code",
   "execution_count": 171,
   "metadata": {
    "collapsed": true
   },
   "outputs": [],
   "source": [
    "multi_recall = conf_mtx*1.0/ row_sums"
   ]
  },
  {
   "cell_type": "code",
   "execution_count": 187,
   "metadata": {},
   "outputs": [
    {
     "data": {
      "image/png": "[encoded data removed]",
      "text/plain": [
       "<matplotlib.figure.Figure at 0x11dde06d0>"
      ]
     },
     "metadata": {},
     "output_type": "display_data"
    }
   ],
   "source": [
    "fig, ax = plt.subplots(figsize = (9,8))\n",
    "sns.heatmap(multi_recall, ax=ax)\n",
    "ax.set_ylabel('actual number')\n",
    "ax.set_xlabel('predict number')\n",
    "ax.set_title('Detection Recall Rate')\n",
    "plt.show()"
   ]
  },
  {
   "cell_type": "markdown",
   "metadata": {},
   "source": [
    "** Visualize the prediction rate of test data ** "
   ]
  },
  {
   "cell_type": "code",
   "execution_count": 182,
   "metadata": {
    "collapsed": true
   },
   "outputs": [],
   "source": [
    "col_sums = conf_mtx.sum(axis=0, keepdims=True)"
   ]
  },
  {
   "cell_type": "code",
   "execution_count": 183,
   "metadata": {},
   "outputs": [
    {
     "data": {
      "text/plain": [
       "array([[1388, 1581, 1420, 1425, 1360, 1257, 1380, 1446, 1351, 1392]])"
      ]
     },
     "execution_count": 183,
     "metadata": {},
     "output_type": "execute_result"
    }
   ],
   "source": [
    "col_sums"
   ]
  },
  {
   "cell_type": "code",
   "execution_count": 185,
   "metadata": {
    "collapsed": true
   },
   "outputs": [],
   "source": [
    "multi_precision = conf_mtx*1.0 / col_sums"
   ]
  },
  {
   "cell_type": "code",
   "execution_count": 186,
   "metadata": {},
   "outputs": [
    {
     "data": {
      "image/png": "[encoded data removed]",
      "text/plain": [
       "<matplotlib.figure.Figure at 0x11dd249d0>"
      ]
     },
     "metadata": {},
     "output_type": "display_data"
    }
   ],
   "source": [
    "fig, ax = plt.subplots(figsize = (9,8))\n",
    "sns.heatmap(multi_precision, ax=ax)\n",
    "ax.set_ylabel('actual number')\n",
    "ax.set_xlabel('predict number')\n",
    "ax.set_title('Prediction Precision Rate')\n",
    "plt.show()"
   ]
  }
 ],
 "metadata": {
  "kernelspec": {
   "display_name": "ML",
   "language": "python",
   "name": "ml"
  },
  "language_info": {
   "codemirror_mode": {
    "name": "ipython",
    "version": 2
   },
   "file_extension": ".py",
   "mimetype": "text/x-python",
   "name": "python",
   "nbconvert_exporter": "python",
   "pygments_lexer": "ipython2",
   "version": "2.7.13"
  }
 },
 "nbformat": 4,
 "nbformat_minor": 2
}
